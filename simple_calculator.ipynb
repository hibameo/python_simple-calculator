{
  "nbformat": 4,
  "nbformat_minor": 0,
  "metadata": {
    "colab": {
      "provenance": [],
      "authorship_tag": "ABX9TyO4CcEDXgrD3FlpgpOS5nf2",
      "include_colab_link": true
    },
    "kernelspec": {
      "name": "python3",
      "display_name": "Python 3"
    },
    "language_info": {
      "name": "python"
    }
  },
  "cells": [
    {
      "cell_type": "markdown",
      "metadata": {
        "id": "view-in-github",
        "colab_type": "text"
      },
      "source": [
        "<a href=\"https://colab.research.google.com/github/hibameo/python_simple-calculator/blob/main/simple_calculator.ipynb\" target=\"_parent\"><img src=\"https://colab.research.google.com/assets/colab-badge.svg\" alt=\"Open In Colab\"/></a>"
      ]
    },
    {
      "cell_type": "code",
      "execution_count": 1,
      "metadata": {
        "colab": {
          "base_uri": "https://localhost:8080/"
        },
        "id": "gAF2wCRNdU3F",
        "outputId": "34807c75-b791-4d69-9e0e-3d9619bf2f21"
      },
      "outputs": [
        {
          "output_type": "stream",
          "name": "stdout",
          "text": [
            "Welcome to the Simple Calculator!\n",
            "Select an operation to perform:\n",
            "1. Addition (+)\n",
            "2. Subtraction (-)\n",
            "3. Multiplication (*)\n",
            "4. Division (/)\n",
            "Enter your choice (1/2/3/4): 3\n",
            "Enter the first number: 55\n",
            "Enter the second number: 56\n",
            "The result is: 3080.0\n"
          ]
        }
      ],
      "source": [
        "\n",
        "\n",
        "def calculator():\n",
        "    print(\"Welcome to the Simple Calculator!\")\n",
        "    print(\"Select an operation to perform:\")\n",
        "    print(\"1. Addition (+)\")\n",
        "    print(\"2. Subtraction (-)\")\n",
        "    print(\"3. Multiplication (*)\")\n",
        "    print(\"4. Division (/)\")\n",
        "\n",
        "    try:\n",
        "\n",
        "        choice = int(input(\"Enter your choice (1/2/3/4): \"))\n",
        "\n",
        "        if choice in [1, 2, 3, 4]:\n",
        "\n",
        "            num1 = float(input(\"Enter the first number: \"))\n",
        "            num2 = float(input(\"Enter the second number: \"))\n",
        "\n",
        "            if choice == 1:\n",
        "                print(f\"The result is: {num1 + num2}\")\n",
        "            elif choice == 2:\n",
        "                print(f\"The result is: {num1 - num2}\")\n",
        "            elif choice == 3:\n",
        "                print(f\"The result is: {num1 * num2}\")\n",
        "            elif choice == 4:\n",
        "                if num2 != 0:\n",
        "                    print(f\"The result is: {num1 / num2}\")\n",
        "                else:\n",
        "                    print(\"Error: Division by zero is not allowed!\")\n",
        "        else:\n",
        "            print(\"Invalid choice! Please select a valid operation.\")\n",
        "    except ValueError:\n",
        "        print(\"Invalid input! Please enter numeric values only.\")\n",
        "\n",
        "\n",
        "calculator()"
      ]
    }
  ]
}